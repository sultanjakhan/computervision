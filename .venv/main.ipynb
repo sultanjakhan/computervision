{
 "cells": [
  {
   "cell_type": "code",
   "execution_count": 22,
   "metadata": {},
   "outputs": [],
   "source": [
    "import  numpy as np\n",
    "import cv2\n",
    "import json\n",
    "import os"
   ]
  },
  {
   "cell_type": "code",
   "execution_count": 5,
   "metadata": {},
   "outputs": [
    {
     "ename": "KeyboardInterrupt",
     "evalue": "",
     "output_type": "error",
     "traceback": [
      "\u001b[1;31m---------------------------------------------------------------------------\u001b[0m",
      "\u001b[1;31mKeyboardInterrupt\u001b[0m                         Traceback (most recent call last)",
      "\u001b[1;32mc:\\Users\\asus\\Desktop\\4 Course\\Computer vision\\computervision\\.venv\\main.ipynb Cell 2\u001b[0m line \u001b[0;36m4\n\u001b[0;32m     <a href='vscode-notebook-cell:/c%3A/Users/asus/Desktop/4%20Course/Computer%20vision/computervision/.venv/main.ipynb#X25sZmlsZQ%3D%3D?line=38'>39</a>\u001b[0m cv2\u001b[39m.\u001b[39mimshow(\u001b[39m'\u001b[39m\u001b[39mImage\u001b[39m\u001b[39m'\u001b[39m, gray_image)\n\u001b[0;32m     <a href='vscode-notebook-cell:/c%3A/Users/asus/Desktop/4%20Course/Computer%20vision/computervision/.venv/main.ipynb#X25sZmlsZQ%3D%3D?line=40'>41</a>\u001b[0m \u001b[39m# Wait for 1 second (1000 milliseconds)\u001b[39;00m\n\u001b[1;32m---> <a href='vscode-notebook-cell:/c%3A/Users/asus/Desktop/4%20Course/Computer%20vision/computervision/.venv/main.ipynb#X25sZmlsZQ%3D%3D?line=41'>42</a>\u001b[0m cv2\u001b[39m.\u001b[39;49mwaitKey(\u001b[39m1000\u001b[39;49m)\n\u001b[0;32m     <a href='vscode-notebook-cell:/c%3A/Users/asus/Desktop/4%20Course/Computer%20vision/computervision/.venv/main.ipynb#X25sZmlsZQ%3D%3D?line=43'>44</a>\u001b[0m \u001b[39m# Close the window\u001b[39;00m\n\u001b[0;32m     <a href='vscode-notebook-cell:/c%3A/Users/asus/Desktop/4%20Course/Computer%20vision/computervision/.venv/main.ipynb#X25sZmlsZQ%3D%3D?line=44'>45</a>\u001b[0m cv2\u001b[39m.\u001b[39mdestroyAllWindows()\n",
      "\u001b[1;31mKeyboardInterrupt\u001b[0m: "
     ]
    }
   ],
   "source": [
    "import json\n",
    "import cv2\n",
    "import numpy as np\n",
    "import base64\n",
    "import os\n",
    "import requests\n",
    "\n",
    "# Function to download image from URL\n",
    "def download_image(url):\n",
    "    response = requests.get(url)\n",
    "    img_array = np.asarray(bytearray(response.content), dtype=np.uint8)\n",
    "    return cv2.imdecode(img_array, cv2.IMREAD_COLOR)\n",
    "\n",
    "# Folder path where your JSON files with image data are stored\n",
    "folder_path = R'C:\\Users\\asus\\Desktop\\4 Course\\Computer vision\\computervision\\COVID-19'\n",
    "\n",
    "# Iterate over each file in the folder\n",
    "for filename in os.listdir(folder_path):\n",
    "    if filename.endswith('.json'):  # Check if the file is a JSON file\n",
    "        json_file_path = os.path.join(folder_path, filename)\n",
    "\n",
    "        # Read JSON file\n",
    "        with open(json_file_path, 'r') as file:\n",
    "            try:\n",
    "                data = json.load(file)\n",
    "\n",
    "                # Extract the image URL from the 'url' field under the 'image' key\n",
    "                image_url = data.get('image', {}).get('url')\n",
    "\n",
    "                if image_url:\n",
    "                    # Download the image from the URL\n",
    "                    image = download_image(image_url)\n",
    "\n",
    "                    # Now you can use OpenCV functions on the image\n",
    "                    # For example, convert to grayscale\n",
    "                    gray_image = cv2.cvtColor(image, cv2.COLOR_BGR2GRAY)\n",
    "\n",
    "                    # Display the image using OpenCV\n",
    "                    cv2.imshow('Image', gray_image)\n",
    "\n",
    "                    # Wait for 1 second (1000 milliseconds)\n",
    "                    cv2.waitKey(1000)\n",
    "\n",
    "                    # Close the window\n",
    "                    cv2.destroyAllWindows()\n",
    "                else:\n",
    "                    print(f\"Error in file {filename}: Image URL not found.\")\n",
    "\n",
    "            except json.JSONDecodeError as e:\n",
    "                print(f\"Error decoding JSON in file {filename}: {e}\")\n",
    "            except Exception as e:\n",
    "                print(f\"An unexpected error occurred in file {filename}: {e}\")\n"
   ]
  }
 ],
 "metadata": {
  "kernelspec": {
   "display_name": "Python 3",
   "language": "python",
   "name": "python3"
  },
  "language_info": {
   "codemirror_mode": {
    "name": "ipython",
    "version": 3
   },
   "file_extension": ".py",
   "mimetype": "text/x-python",
   "name": "python",
   "nbconvert_exporter": "python",
   "pygments_lexer": "ipython3",
   "version": "3.10.4"
  }
 },
 "nbformat": 4,
 "nbformat_minor": 2
}
