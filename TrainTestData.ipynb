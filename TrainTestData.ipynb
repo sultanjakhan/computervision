{
  "cells": [
    {
      "cell_type": "markdown",
      "metadata": {
        "id": "view-in-github",
        "colab_type": "text"
      },
      "source": [
        "<a href=\"https://colab.research.google.com/github/sultanjakhan/computervision/blob/data/TrainTestData.ipynb\" target=\"_parent\"><img src=\"https://colab.research.google.com/assets/colab-badge.svg\" alt=\"Open In Colab\"/></a>"
      ]
    },
    {
      "cell_type": "code",
      "execution_count": null,
      "metadata": {
        "id": "l_Q_UOHE5072"
      },
      "outputs": [],
      "source": [
        "import numpy as np\n",
        "import matplotlib.pyplot as plt\n",
        "from keras.layers import Dense, Conv2D, MaxPool2D, Dropout, Flatten\n",
        "from keras.models import Sequential\n",
        "from keras.preprocessing import image"
      ]
    },
    {
      "cell_type": "code",
      "execution_count": null,
      "metadata": {
        "colab": {
          "base_uri": "https://localhost:8080/"
        },
        "id": "wabU3dzDaOY_",
        "outputId": "483e80d4-6710-4965-adac-ea39e2b7d50f"
      },
      "outputs": [
        {
          "output_type": "stream",
          "name": "stdout",
          "text": [
            "Found 1671 images belonging to 3 classes.\n"
          ]
        }
      ],
      "source": [
        "train_datagen = image.ImageDataGenerator(\n",
        "    rescale = 1/255, horizontal_flip = True, zoom_range = 0.2, shear_range=0.2\n",
        ")\n",
        "train_data = train_datagen.flow_from_directory(directory='/content/drive/MyDrive/All Processed Data/TrainData', target_size = (256,256), batch_size = 16, class_mode = 'binary') #put here the link for the data"
      ]
    },
    {
      "cell_type": "code",
      "source": [
        "train_data.class_indices"
      ],
      "metadata": {
        "colab": {
          "base_uri": "https://localhost:8080/"
        },
        "id": "mgHlcet6e9hb",
        "outputId": "c28d19be-4990-424b-b3e5-d45b64db16cf"
      },
      "execution_count": null,
      "outputs": [
        {
          "output_type": "execute_result",
          "data": {
            "text/plain": [
              "{'BacterialPneumonia': 0, 'COVID-19': 1, 'Normal': 2}"
            ]
          },
          "metadata": {},
          "execution_count": 7
        }
      ]
    },
    {
      "cell_type": "code",
      "source": [
        "test_datagen = image.ImageDataGenerator(\n",
        "    rescale = 1/255\n",
        ")\n",
        "test_data = test_datagen.flow_from_directory(directory='/content/drive/MyDrive/All Processed Data/ProValData', target_size = (256,256), batch_size = 16, class_mode = 'binary') #put here the link for the data"
      ],
      "metadata": {
        "colab": {
          "base_uri": "https://localhost:8080/"
        },
        "id": "W7BzyyRYfVap",
        "outputId": "e2ef38e7-5b7a-4d97-f6b1-b85ceb3d7610"
      },
      "execution_count": null,
      "outputs": [
        {
          "output_type": "stream",
          "name": "stdout",
          "text": [
            "Found 783 images belonging to 3 classes.\n"
          ]
        }
      ]
    },
    {
      "cell_type": "code",
      "source": [
        "from tensorflow.keras.models import Sequential\n",
        "from tensorflow.keras.layers import Conv2D, MaxPooling2D, Dropout, Flatten, Dense\n",
        "from tensorflow.keras.optimizers import Adam\n",
        "\n",
        "model = Sequential()\n",
        "\n",
        "model.add(Conv2D(filters=32, kernel_size=(3, 3), activation='relu', input_shape=(256, 256, 3)))\n",
        "model.add(Conv2D(filters=64, kernel_size=(3, 3), activation='relu'))\n",
        "model.add(MaxPooling2D())\n",
        "model.add(Dropout(rate=0.25))\n",
        "\n",
        "model.add(Conv2D(filters=64, kernel_size=(3, 3), activation='relu'))\n",
        "model.add(MaxPooling2D())\n",
        "model.add(Dropout(rate=0.25))\n",
        "\n",
        "model.add(Conv2D(filters=64, kernel_size=(3, 3), activation='relu'))\n",
        "model.add(MaxPooling2D())\n",
        "model.add(Dropout(rate=0.25))\n",
        "\n",
        "model.add(Flatten())\n",
        "model.add(Dense(units=64, activation='relu'))\n",
        "model.add(Dropout(rate=0.50))\n",
        "model.add(Dense(units=1, activation='sigmoid'))\n",
        "\n",
        "model.compile(loss='binary_crossentropy', optimizer=Adam(), metrics=['acc'])\n"
      ],
      "metadata": {
        "id": "x3LMHGM4hkfB"
      },
      "execution_count": null,
      "outputs": []
    },
    {
      "cell_type": "code",
      "source": [
        "model.summary()"
      ],
      "metadata": {
        "colab": {
          "base_uri": "https://localhost:8080/"
        },
        "id": "S9KTtRw2kVj5",
        "outputId": "660e9e8b-85b3-4ff4-af4d-7b2b93398c91"
      },
      "execution_count": null,
      "outputs": [
        {
          "output_type": "stream",
          "name": "stdout",
          "text": [
            "Model: \"sequential\"\n",
            "_________________________________________________________________\n",
            " Layer (type)                Output Shape              Param #   \n",
            "=================================================================\n",
            " conv2d (Conv2D)             (None, 254, 254, 32)      896       \n",
            "                                                                 \n",
            " conv2d_1 (Conv2D)           (None, 252, 252, 64)      18496     \n",
            "                                                                 \n",
            " max_pooling2d (MaxPooling2  (None, 126, 126, 64)      0         \n",
            " D)                                                              \n",
            "                                                                 \n",
            " dropout (Dropout)           (None, 126, 126, 64)      0         \n",
            "                                                                 \n",
            " conv2d_2 (Conv2D)           (None, 124, 124, 64)      36928     \n",
            "                                                                 \n",
            " max_pooling2d_1 (MaxPoolin  (None, 62, 62, 64)        0         \n",
            " g2D)                                                            \n",
            "                                                                 \n",
            " dropout_1 (Dropout)         (None, 62, 62, 64)        0         \n",
            "                                                                 \n",
            " conv2d_3 (Conv2D)           (None, 60, 60, 64)        36928     \n",
            "                                                                 \n",
            " max_pooling2d_2 (MaxPoolin  (None, 30, 30, 64)        0         \n",
            " g2D)                                                            \n",
            "                                                                 \n",
            " dropout_2 (Dropout)         (None, 30, 30, 64)        0         \n",
            "                                                                 \n",
            " flatten (Flatten)           (None, 57600)             0         \n",
            "                                                                 \n",
            " dense (Dense)               (None, 64)                3686464   \n",
            "                                                                 \n",
            " dropout_3 (Dropout)         (None, 64)                0         \n",
            "                                                                 \n",
            " dense_1 (Dense)             (None, 1)                 65        \n",
            "                                                                 \n",
            "=================================================================\n",
            "Total params: 3779777 (14.42 MB)\n",
            "Trainable params: 3779777 (14.42 MB)\n",
            "Non-trainable params: 0 (0.00 Byte)\n",
            "_________________________________________________________________\n"
          ]
        }
      ]
    },
    {
      "cell_type": "code",
      "source": [
        "model.fit_generator(train_data, steps_per_epoch=8, epochs=10, validation_steps=2,\n",
        "                    validation_data = test_data)"
      ],
      "metadata": {
        "colab": {
          "base_uri": "https://localhost:8080/"
        },
        "id": "TeK-vCU1k4Ju",
        "outputId": "8b26c919-7826-40e4-8ea8-4fb10d24bf63"
      },
      "execution_count": null,
      "outputs": [
        {
          "output_type": "stream",
          "name": "stderr",
          "text": [
            "<ipython-input-12-868a391a0f7b>:1: UserWarning: `Model.fit_generator` is deprecated and will be removed in a future version. Please use `Model.fit`, which supports generators.\n",
            "  model.fit_generator(train_data, steps_per_epoch=8, epochs=10, validation_steps=2,\n"
          ]
        },
        {
          "output_type": "stream",
          "name": "stdout",
          "text": [
            "Epoch 1/10\n",
            "8/8 [==============================] - 67s 7s/step - loss: -2111473.5000 - acc: 0.1016 - val_loss: -262422.7500 - val_acc: 0.0000e+00\n",
            "Epoch 2/10\n",
            "8/8 [==============================] - 71s 9s/step - loss: -4799927.0000 - acc: 0.0859 - val_loss: -9181152.0000 - val_acc: 0.0000e+00\n",
            "Epoch 3/10\n",
            "8/8 [==============================] - 64s 8s/step - loss: -1511911.7500 - acc: 0.0625 - val_loss: -24494174.0000 - val_acc: 0.0000e+00\n",
            "Epoch 4/10\n",
            "8/8 [==============================] - 62s 7s/step - loss: -12319511.0000 - acc: 0.0625 - val_loss: -20632316.0000 - val_acc: 0.0000e+00\n",
            "Epoch 5/10\n",
            "8/8 [==============================] - 65s 8s/step - loss: -11474185.0000 - acc: 0.0312 - val_loss: -62721516.0000 - val_acc: 0.0000e+00\n",
            "Epoch 6/10\n",
            "8/8 [==============================] - 66s 8s/step - loss: -38633988.0000 - acc: 0.0938 - val_loss: -36297660.0000 - val_acc: 0.0312\n",
            "Epoch 7/10\n",
            "8/8 [==============================] - 61s 8s/step - loss: -24982098.0000 - acc: 0.0781 - val_loss: -147615840.0000 - val_acc: 0.0000e+00\n",
            "Epoch 8/10\n",
            "8/8 [==============================] - 60s 7s/step - loss: -89997888.0000 - acc: 0.1172 - val_loss: 35821376.0000 - val_acc: 0.0000e+00\n",
            "Epoch 9/10\n",
            "8/8 [==============================] - 65s 8s/step - loss: -35850704.0000 - acc: 0.0703 - val_loss: -126026736.0000 - val_acc: 0.0312\n",
            "Epoch 10/10\n",
            "8/8 [==============================] - 65s 8s/step - loss: -136327456.0000 - acc: 0.0859 - val_loss: -191180176.0000 - val_acc: 0.0312\n"
          ]
        },
        {
          "output_type": "execute_result",
          "data": {
            "text/plain": [
              "<keras.src.callbacks.History at 0x7fd14832f1f0>"
            ]
          },
          "metadata": {},
          "execution_count": 12
        }
      ]
    },
    {
      "cell_type": "code",
      "source": [
        "from keras.preprocessing import image\n",
        "import numpy as np\n",
        "\n",
        "path = \"/content/drive/MyDrive/All Processed Data/ProNonArgTrain/ProCOVID -19/processed_0.jpeg\"  # рандомная картинка вставляется\n",
        "img = image.load_img(path, target_size=(256, 256))\n",
        "img = image.img_to_array(img) / 255.0  # нормализация значений пикселей\n",
        "img = np.expand_dims(img, axis=0)  # добавляем размерность батча\n",
        "\n",
        "print(img.shape)\n"
      ],
      "metadata": {
        "colab": {
          "base_uri": "https://localhost:8080/"
        },
        "id": "ry6WQJYampfY",
        "outputId": "ea69c3f0-fbf0-4380-ed9c-a5a9adfc49e2"
      },
      "execution_count": null,
      "outputs": [
        {
          "output_type": "stream",
          "name": "stdout",
          "text": [
            "(1, 256, 256, 3)\n"
          ]
        }
      ]
    }
  ],
  "metadata": {
    "colab": {
      "provenance": [],
      "mount_file_id": "1ck62cgwUGQqKvIyaIgmxAsaneDtaUmzw",
      "authorship_tag": "ABX9TyM4Y/D6Xv3lt9yv06uAbr1I",
      "include_colab_link": true
    },
    "kernelspec": {
      "display_name": "Python 3",
      "name": "python3"
    },
    "language_info": {
      "name": "python"
    }
  },
  "nbformat": 4,
  "nbformat_minor": 0
}